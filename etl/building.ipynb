{
 "cells": [
  {
   "cell_type": "code",
   "execution_count": 1,
   "metadata": {},
   "outputs": [],
   "source": [
    "import geopandas as gpd\n",
    "from shapely import wkt"
   ]
  },
  {
   "cell_type": "code",
   "execution_count": 2,
   "metadata": {},
   "outputs": [],
   "source": [
    "building = gpd.read_file(\"../../purple-hawk-data/building.csv\")"
   ]
  },
  {
   "cell_type": "code",
   "execution_count": 13,
   "metadata": {},
   "outputs": [],
   "source": [
    "building = building.drop_duplicates(subset=[\"BIN\"])"
   ]
  },
  {
   "cell_type": "code",
   "execution_count": 14,
   "metadata": {},
   "outputs": [],
   "source": [
    "building_essentials = building.reindex(\n",
    "    [\"BIN\", \"CNSTRCT_YR\", \"HEIGHTROOF\", \"GROUNDELEV\", \"FEAT_CODE\"], axis=1\n",
    ")"
   ]
  },
  {
   "cell_type": "code",
   "execution_count": 15,
   "metadata": {},
   "outputs": [],
   "source": [
    "building_tax_lot = building.reindex([\"BIN\", \"MPLUTO_BBL\"], axis=1)"
   ]
  },
  {
   "cell_type": "code",
   "execution_count": 16,
   "metadata": {},
   "outputs": [],
   "source": [
    "building_spatial = building.reindex([\"BIN\", \"the_geom\"], axis=1)\n",
    "\n",
    "building_spatial[\"geometry\"] = building_spatial.the_geom.apply(wkt.loads)\n",
    "building_spatial.drop(\"the_geom\", axis=1, inplace=True)\n",
    "building_wgs84 = gpd.GeoDataFrame(\n",
    "    building_spatial, geometry=\"geometry\", crs=4326\n",
    ")"
   ]
  },
  {
   "cell_type": "code",
   "execution_count": 17,
   "metadata": {},
   "outputs": [],
   "source": [
    "building_long_island = building_wgs84.to_crs(2263)"
   ]
  },
  {
   "cell_type": "code",
   "execution_count": 18,
   "metadata": {},
   "outputs": [],
   "source": [
    "building_long_island.to_csv(\n",
    "    \"../../purple-hawk-data/db-copy/building_long_island_v1.csv\", index=False\n",
    ")\n",
    "building_wgs84.to_csv(\n",
    "    \"../../purple-hawk-data/db-copy/building_wgs84_v1.csv\", index=False\n",
    ")\n",
    "building_essentials.to_csv(\n",
    "    \"../../purple-hawk-data/db-copy/building_essentials_v1.csv\", index=False\n",
    ")\n",
    "building_tax_lot.to_csv(\n",
    "    \"../../purple-hawk-data/db-copy/building_tax_lot_v1.csv\", index=False\n",
    ")"
   ]
  }
 ],
 "metadata": {
  "kernelspec": {
   "display_name": "venv",
   "language": "python",
   "name": "python3"
  },
  "language_info": {
   "codemirror_mode": {
    "name": "ipython",
    "version": 3
   },
   "file_extension": ".py",
   "mimetype": "text/x-python",
   "name": "python",
   "nbconvert_exporter": "python",
   "pygments_lexer": "ipython3",
   "version": "3.10.12"
  }
 },
 "nbformat": 4,
 "nbformat_minor": 2
}
