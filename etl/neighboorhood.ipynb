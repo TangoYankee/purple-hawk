{
 "cells": [
  {
   "cell_type": "code",
   "execution_count": 1,
   "metadata": {},
   "outputs": [],
   "source": [
    "import geopandas as gpd\n",
    "from shapely import wkt\n",
    "import pandas as pd"
   ]
  },
  {
   "cell_type": "code",
   "execution_count": 2,
   "metadata": {},
   "outputs": [],
   "source": [
    "neighborhood = gpd.read_file(\"../../purple-hawk-data/neighborhood.csv\")"
   ]
  },
  {
   "cell_type": "code",
   "execution_count": 3,
   "metadata": {},
   "outputs": [],
   "source": [
    "neighborhood_essentials = neighborhood.reindex([\"Name\", \"the_geom\"], axis=1)"
   ]
  },
  {
   "cell_type": "code",
   "execution_count": 9,
   "metadata": {},
   "outputs": [
    {
     "data": {
      "text/html": [
       "<div>\n",
       "<style scoped>\n",
       "    .dataframe tbody tr th:only-of-type {\n",
       "        vertical-align: middle;\n",
       "    }\n",
       "\n",
       "    .dataframe tbody tr th {\n",
       "        vertical-align: top;\n",
       "    }\n",
       "\n",
       "    .dataframe thead th {\n",
       "        text-align: right;\n",
       "    }\n",
       "</style>\n",
       "<table border=\"1\" class=\"dataframe\">\n",
       "  <thead>\n",
       "    <tr style=\"text-align: right;\">\n",
       "      <th></th>\n",
       "      <th>Name</th>\n",
       "      <th>the_geom</th>\n",
       "      <th>wgs84</th>\n",
       "    </tr>\n",
       "  </thead>\n",
       "  <tbody>\n",
       "    <tr>\n",
       "      <th>0</th>\n",
       "      <td>Wakefield</td>\n",
       "      <td>POINT (-73.8472005205491 40.89470517661004)</td>\n",
       "      <td>POINT (-73.8472005205491 40.89470517661004)</td>\n",
       "    </tr>\n",
       "    <tr>\n",
       "      <th>1</th>\n",
       "      <td>Co-op City</td>\n",
       "      <td>POINT (-73.82993910812405 40.87429419303015)</td>\n",
       "      <td>POINT (-73.82993910812405 40.87429419303015)</td>\n",
       "    </tr>\n",
       "    <tr>\n",
       "      <th>2</th>\n",
       "      <td>Eastchester</td>\n",
       "      <td>POINT (-73.82780644716419 40.88755567735082)</td>\n",
       "      <td>POINT (-73.82780644716419 40.88755567735082)</td>\n",
       "    </tr>\n",
       "    <tr>\n",
       "      <th>3</th>\n",
       "      <td>Fieldston</td>\n",
       "      <td>POINT (-73.90564259591689 40.895437426903875)</td>\n",
       "      <td>POINT (-73.90564259591689 40.895437426903875)</td>\n",
       "    </tr>\n",
       "    <tr>\n",
       "      <th>4</th>\n",
       "      <td>Riverdale</td>\n",
       "      <td>POINT (-73.91258546108577 40.89083449389134)</td>\n",
       "      <td>POINT (-73.91258546108577 40.89083449389134)</td>\n",
       "    </tr>\n",
       "  </tbody>\n",
       "</table>\n",
       "</div>"
      ],
      "text/plain": [
       "          Name                                       the_geom  \\\n",
       "0    Wakefield    POINT (-73.8472005205491 40.89470517661004)   \n",
       "1   Co-op City   POINT (-73.82993910812405 40.87429419303015)   \n",
       "2  Eastchester   POINT (-73.82780644716419 40.88755567735082)   \n",
       "3    Fieldston  POINT (-73.90564259591689 40.895437426903875)   \n",
       "4    Riverdale   POINT (-73.91258546108577 40.89083449389134)   \n",
       "\n",
       "                                           wgs84  \n",
       "0    POINT (-73.8472005205491 40.89470517661004)  \n",
       "1   POINT (-73.82993910812405 40.87429419303015)  \n",
       "2   POINT (-73.82780644716419 40.88755567735082)  \n",
       "3  POINT (-73.90564259591689 40.895437426903875)  \n",
       "4   POINT (-73.91258546108577 40.89083449389134)  "
      ]
     },
     "execution_count": 9,
     "metadata": {},
     "output_type": "execute_result"
    }
   ],
   "source": [
    "neighborhood_essentials.head()"
   ]
  },
  {
   "cell_type": "code",
   "execution_count": 22,
   "metadata": {},
   "outputs": [],
   "source": [
    "neighborhood_essentials[\"spatial\"] = neighborhood_essentials.the_geom.apply(wkt.loads)\n",
    "neighborhood_spatial = neighborhood_essentials.drop(\"the_geom\", axis=1)\n",
    "neighborhood_wgs84 = gpd.GeoDataFrame(\n",
    "    neighborhood_spatial, geometry=\"spatial\", crs=4326\n",
    ")"
   ]
  },
  {
   "cell_type": "code",
   "execution_count": 23,
   "metadata": {},
   "outputs": [],
   "source": [
    "neighborhood_lift = neighborhood_wgs84.to_crs(2263)"
   ]
  },
  {
   "cell_type": "code",
   "execution_count": 25,
   "metadata": {},
   "outputs": [],
   "source": [
    "neighborhood_published = pd.DataFrame(\n",
    "    data={\n",
    "        \"name\": neighborhood_essentials[\"Name\"],\n",
    "        \"wgs84\": neighborhood_wgs84[\"spatial\"],\n",
    "        \"lift\": neighborhood_lift[\"spatial\"],\n",
    "    }\n",
    ")"
   ]
  },
  {
   "cell_type": "code",
   "execution_count": 27,
   "metadata": {},
   "outputs": [],
   "source": [
    "neighborhood_published.to_csv(\n",
    "    \"../../purple-hawk-data/db-copy/neighborhood_v1.csv\", index=False\n",
    ")"
   ]
  }
 ],
 "metadata": {
  "kernelspec": {
   "display_name": "venv",
   "language": "python",
   "name": "python3"
  },
  "language_info": {
   "codemirror_mode": {
    "name": "ipython",
    "version": 3
   },
   "file_extension": ".py",
   "mimetype": "text/x-python",
   "name": "python",
   "nbconvert_exporter": "python",
   "pygments_lexer": "ipython3",
   "version": "3.10.12"
  }
 },
 "nbformat": 4,
 "nbformat_minor": 2
}
