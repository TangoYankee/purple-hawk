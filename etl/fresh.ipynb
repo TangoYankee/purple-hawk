{
 "cells": [
  {
   "cell_type": "code",
   "execution_count": 1,
   "metadata": {},
   "outputs": [],
   "source": [
    "import pandas as pd\n",
    "import geopandas as gpd\n",
    "from shapely import wkt"
   ]
  },
  {
   "cell_type": "code",
   "execution_count": 2,
   "metadata": {},
   "outputs": [],
   "source": [
    "fresh = gpd.read_file(\"../../purple-hawk-data/DCP_nyc_freshzoning.csv\")"
   ]
  },
  {
   "cell_type": "code",
   "execution_count": 3,
   "metadata": {},
   "outputs": [],
   "source": [
    "fresh_essentials = fresh.reindex([\"Name\", \"the_geom\"], axis=1)\n",
    "fresh_essentials[\"the_geom\"] = fresh_essentials.the_geom.apply(wkt.loads)"
   ]
  },
  {
   "cell_type": "code",
   "execution_count": 5,
   "metadata": {},
   "outputs": [],
   "source": [
    "fresh_spatial = gpd.GeoDataFrame(fresh_essentials, geometry=\"the_geom\", crs=4326)"
   ]
  },
  {
   "cell_type": "code",
   "execution_count": 7,
   "metadata": {},
   "outputs": [],
   "source": [
    "fresh_wgs84 = fresh_spatial"
   ]
  },
  {
   "cell_type": "code",
   "execution_count": 8,
   "metadata": {},
   "outputs": [],
   "source": [
    "fresh_lift = fresh_wgs84.to_crs(2263)"
   ]
  },
  {
   "cell_type": "code",
   "execution_count": 10,
   "metadata": {},
   "outputs": [],
   "source": [
    "fresh_published = pd.DataFrame(\n",
    "    data={\n",
    "        \"name\": fresh_essentials[\"Name\"],\n",
    "        \"wgs84\": fresh_wgs84[\"the_geom\"],\n",
    "        \"lift\": fresh_lift[\"the_geom\"],\n",
    "    }\n",
    ")"
   ]
  },
  {
   "cell_type": "code",
   "execution_count": 12,
   "metadata": {},
   "outputs": [],
   "source": [
    "fresh_published.to_csv(\"../../purple-hawk-data/db-copy/fresh_v1.csv\", index=False)"
   ]
  }
 ],
 "metadata": {
  "kernelspec": {
   "display_name": "venv",
   "language": "python",
   "name": "python3"
  },
  "language_info": {
   "codemirror_mode": {
    "name": "ipython",
    "version": 3
   },
   "file_extension": ".py",
   "mimetype": "text/x-python",
   "name": "python",
   "nbconvert_exporter": "python",
   "pygments_lexer": "ipython3",
   "version": "3.10.12"
  }
 },
 "nbformat": 4,
 "nbformat_minor": 2
}
