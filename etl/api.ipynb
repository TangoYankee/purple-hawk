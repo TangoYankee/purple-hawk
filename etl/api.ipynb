{
 "cells": [
  {
   "cell_type": "code",
   "execution_count": 1,
   "metadata": {},
   "outputs": [],
   "source": [
    "import geopandas as gpd"
   ]
  },
  {
   "cell_type": "code",
   "execution_count": 3,
   "metadata": {},
   "outputs": [],
   "source": [
    "map_pluto  = gpd.read_file(\n",
    "    \"../../purple-hawk-data/map_pluto_23v2_flat.csv\"\n",
    ")"
   ]
  },
  {
   "cell_type": "code",
   "execution_count": 17,
   "metadata": {},
   "outputs": [],
   "source": [
    "long_island_state_plane = map_pluto.reindex(\n",
    "    [\"geometry\"], axis = 1\n",
    "    ).set_crs(2263)"
   ]
  },
  {
   "cell_type": "code",
   "execution_count": 19,
   "metadata": {},
   "outputs": [],
   "source": [
    "long_island_short = long_island_state_plane.head(10)"
   ]
  },
  {
   "cell_type": "code",
   "execution_count": 42,
   "metadata": {},
   "outputs": [],
   "source": [
    "long_island_short.to_csv('../../purple-hawk-data/pluto_23v2_2263_short.csv')"
   ]
  },
  {
   "cell_type": "code",
   "execution_count": 20,
   "metadata": {},
   "outputs": [],
   "source": [
    "wgs84_short = long_island_short.to_crs(4326)"
   ]
  },
  {
   "cell_type": "code",
   "execution_count": 43,
   "metadata": {},
   "outputs": [],
   "source": [
    "wgs84_short.to_csv('../../purple-hawk-data/pluto_23v2_4326_short.csv')"
   ]
  },
  {
   "cell_type": "code",
   "execution_count": 38,
   "metadata": {},
   "outputs": [],
   "source": [
    "pluto_essential = map_pluto.reindex(\n",
    "    [\"BBL\", \"BoroCode\", \"Block\", \"Lot\", \"LotFront\", \"LotDepth\", \"LotType\"], axis = 1\n",
    ")\n",
    "pluto_essential[\"BBL\"] = pluto_essential[\"BBL\"].astype(float).astype(int).astype(str)"
   ]
  },
  {
   "cell_type": "code",
   "execution_count": 41,
   "metadata": {},
   "outputs": [],
   "source": [
    "pluto_essential.head(10).to_csv(\"../../purple-hawk-data/pluto_23v2_essentials_short.csv\")"
   ]
  }
 ],
 "metadata": {
  "kernelspec": {
   "display_name": "venv",
   "language": "python",
   "name": "python3"
  },
  "language_info": {
   "codemirror_mode": {
    "name": "ipython",
    "version": 3
   },
   "file_extension": ".py",
   "mimetype": "text/x-python",
   "name": "python",
   "nbconvert_exporter": "python",
   "pygments_lexer": "ipython3",
   "version": "3.10.12"
  }
 },
 "nbformat": 4,
 "nbformat_minor": 2
}
