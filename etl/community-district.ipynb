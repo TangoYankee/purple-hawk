{
 "cells": [
  {
   "cell_type": "code",
   "execution_count": 2,
   "metadata": {},
   "outputs": [],
   "source": [
    "import pandas as pd\n",
    "import geopandas as gpd\n",
    "from shapely import wkt"
   ]
  },
  {
   "cell_type": "code",
   "execution_count": 11,
   "metadata": {},
   "outputs": [],
   "source": [
    "cd = gpd.read_file(\"../../purple-hawk-data/nycd.csv\")"
   ]
  },
  {
   "cell_type": "code",
   "execution_count": 17,
   "metadata": {},
   "outputs": [],
   "source": [
    "cd_essentials = cd.reindex([\"BoroCD\", \"the_geom\"], axis=1)"
   ]
  },
  {
   "cell_type": "code",
   "execution_count": 21,
   "metadata": {},
   "outputs": [],
   "source": [
    "cd_normal = cd_essentials\n",
    "cd_normal[\"BoroCD\"] = cd_essentials[\"BoroCD\"].astype(str)\n",
    "cd_normal[\"borough\"] = cd_normal[\"BoroCD\"].str[0]\n",
    "cd_normal[\"code\"] = cd_normal[\"BoroCD\"].str[1:3]\n",
    "cd_normal[\"the_geom\"] = cd_normal.the_geom.apply(wkt.loads)"
   ]
  },
  {
   "cell_type": "code",
   "execution_count": 24,
   "metadata": {},
   "outputs": [],
   "source": [
    "cd_spatial = gpd.GeoDataFrame(cd_normal, geometry=\"the_geom\", crs=4326)"
   ]
  },
  {
   "cell_type": "code",
   "execution_count": 29,
   "metadata": {},
   "outputs": [],
   "source": [
    "cd_wgs84 = cd_spatial.drop(\"BoroCD\", axis=1)"
   ]
  },
  {
   "cell_type": "code",
   "execution_count": 30,
   "metadata": {},
   "outputs": [],
   "source": [
    "cd_lift = cd_wgs84.to_crs(2263)"
   ]
  },
  {
   "cell_type": "code",
   "execution_count": 31,
   "metadata": {},
   "outputs": [],
   "source": [
    "cd_published = pd.DataFrame(\n",
    "    data={\n",
    "        \"borough\": cd_normal[\"borough\"],\n",
    "        \"code\": cd_normal[\"code\"],\n",
    "        \"wgs84\": cd_wgs84[\"the_geom\"],\n",
    "        \"lift\": cd_lift[\"the_geom\"],\n",
    "    }\n",
    ")"
   ]
  },
  {
   "cell_type": "code",
   "execution_count": 33,
   "metadata": {},
   "outputs": [],
   "source": [
    "cd_published.to_csv(\"../../purple-hawk-data/db-copy/cd_v1.csv\", index=False)"
   ]
  },
  {
   "cell_type": "code",
   "execution_count": 32,
   "metadata": {},
   "outputs": [
    {
     "data": {
      "text/html": [
       "<div>\n",
       "<style scoped>\n",
       "    .dataframe tbody tr th:only-of-type {\n",
       "        vertical-align: middle;\n",
       "    }\n",
       "\n",
       "    .dataframe tbody tr th {\n",
       "        vertical-align: top;\n",
       "    }\n",
       "\n",
       "    .dataframe thead th {\n",
       "        text-align: right;\n",
       "    }\n",
       "</style>\n",
       "<table border=\"1\" class=\"dataframe\">\n",
       "  <thead>\n",
       "    <tr style=\"text-align: right;\">\n",
       "      <th></th>\n",
       "      <th>borough</th>\n",
       "      <th>code</th>\n",
       "      <th>wgs84</th>\n",
       "      <th>lift</th>\n",
       "    </tr>\n",
       "  </thead>\n",
       "  <tbody>\n",
       "    <tr>\n",
       "      <th>0</th>\n",
       "      <td>3</td>\n",
       "      <td>08</td>\n",
       "      <td>MULTIPOLYGON (((-73.95829 40.67983, -73.95596 ...</td>\n",
       "      <td>MULTIPOLYGON (((995818.280 186959.985, 996465....</td>\n",
       "    </tr>\n",
       "    <tr>\n",
       "      <th>1</th>\n",
       "      <td>4</td>\n",
       "      <td>14</td>\n",
       "      <td>MULTIPOLYGON (((-73.90972 40.56529, -73.90973 ...</td>\n",
       "      <td>MULTIPOLYGON (((1009334.367 145238.848, 100933...</td>\n",
       "    </tr>\n",
       "    <tr>\n",
       "      <th>2</th>\n",
       "      <td>2</td>\n",
       "      <td>04</td>\n",
       "      <td>MULTIPOLYGON (((-73.90269 40.84458, -73.90271 ...</td>\n",
       "      <td>MULTIPOLYGON (((1011174.201 246996.168, 101116...</td>\n",
       "    </tr>\n",
       "    <tr>\n",
       "      <th>3</th>\n",
       "      <td>5</td>\n",
       "      <td>01</td>\n",
       "      <td>MULTIPOLYGON (((-74.15946 40.64145, -74.15975 ...</td>\n",
       "      <td>MULTIPOLYGON (((939997.095 173013.579, 939915....</td>\n",
       "    </tr>\n",
       "    <tr>\n",
       "      <th>4</th>\n",
       "      <td>4</td>\n",
       "      <td>07</td>\n",
       "      <td>MULTIPOLYGON (((-73.85255 40.76007, -73.85224 ...</td>\n",
       "      <td>MULTIPOLYGON (((1025098.892 216225.027, 102518...</td>\n",
       "    </tr>\n",
       "  </tbody>\n",
       "</table>\n",
       "</div>"
      ],
      "text/plain": [
       "  borough code                                              wgs84  \\\n",
       "0       3   08  MULTIPOLYGON (((-73.95829 40.67983, -73.95596 ...   \n",
       "1       4   14  MULTIPOLYGON (((-73.90972 40.56529, -73.90973 ...   \n",
       "2       2   04  MULTIPOLYGON (((-73.90269 40.84458, -73.90271 ...   \n",
       "3       5   01  MULTIPOLYGON (((-74.15946 40.64145, -74.15975 ...   \n",
       "4       4   07  MULTIPOLYGON (((-73.85255 40.76007, -73.85224 ...   \n",
       "\n",
       "                                                lift  \n",
       "0  MULTIPOLYGON (((995818.280 186959.985, 996465....  \n",
       "1  MULTIPOLYGON (((1009334.367 145238.848, 100933...  \n",
       "2  MULTIPOLYGON (((1011174.201 246996.168, 101116...  \n",
       "3  MULTIPOLYGON (((939997.095 173013.579, 939915....  \n",
       "4  MULTIPOLYGON (((1025098.892 216225.027, 102518...  "
      ]
     },
     "execution_count": 32,
     "metadata": {},
     "output_type": "execute_result"
    }
   ],
   "source": [
    "cd_published.head()"
   ]
  }
 ],
 "metadata": {
  "kernelspec": {
   "display_name": "venv",
   "language": "python",
   "name": "python3"
  },
  "language_info": {
   "codemirror_mode": {
    "name": "ipython",
    "version": 3
   },
   "file_extension": ".py",
   "mimetype": "text/x-python",
   "name": "python",
   "nbconvert_exporter": "python",
   "pygments_lexer": "ipython3",
   "version": "3.10.12"
  }
 },
 "nbformat": 4,
 "nbformat_minor": 2
}
