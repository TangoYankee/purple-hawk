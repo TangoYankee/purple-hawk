{
 "cells": [
  {
   "cell_type": "code",
   "execution_count": 2,
   "metadata": {},
   "outputs": [],
   "source": [
    "import pandas as pd\n",
    "import geopandas as gpd\n",
    "from shapely import wkt"
   ]
  },
  {
   "cell_type": "code",
   "execution_count": null,
   "metadata": {},
   "outputs": [],
   "source": [
    "base_path = \"../../purple-hawk-data\"\n",
    "source_path = f\"{base_path}/source\"\n",
    "dest_path = f\"{base_path}/db-copy\""
   ]
  },
  {
   "cell_type": "code",
   "execution_count": 11,
   "metadata": {},
   "outputs": [],
   "source": [
    "cd = gpd.read_file(f\"{source_path}/nycd.csv\")"
   ]
  },
  {
   "cell_type": "code",
   "execution_count": 17,
   "metadata": {},
   "outputs": [],
   "source": [
    "cd_essentials = cd.reindex([\"BoroCD\", \"the_geom\"], axis=1)"
   ]
  },
  {
   "cell_type": "code",
   "execution_count": 21,
   "metadata": {},
   "outputs": [],
   "source": [
    "cd_normal = cd_essentials\n",
    "cd_normal[\"BoroCD\"] = cd_essentials[\"BoroCD\"].astype(str)\n",
    "cd_normal[\"borough\"] = cd_normal[\"BoroCD\"].str[0]\n",
    "cd_normal[\"code\"] = cd_normal[\"BoroCD\"].str[1:3]\n",
    "cd_normal[\"the_geom\"] = cd_normal.the_geom.apply(wkt.loads)"
   ]
  },
  {
   "cell_type": "code",
   "execution_count": 24,
   "metadata": {},
   "outputs": [],
   "source": [
    "cd_spatial = gpd.GeoDataFrame(cd_normal, geometry=\"the_geom\", crs=4326)"
   ]
  },
  {
   "cell_type": "code",
   "execution_count": 29,
   "metadata": {},
   "outputs": [],
   "source": [
    "cd_wgs84 = cd_spatial.drop(\"BoroCD\", axis=1)"
   ]
  },
  {
   "cell_type": "code",
   "execution_count": 30,
   "metadata": {},
   "outputs": [],
   "source": [
    "cd_lift = cd_wgs84.to_crs(2263)"
   ]
  },
  {
   "cell_type": "code",
   "execution_count": 31,
   "metadata": {},
   "outputs": [],
   "source": [
    "cd_published = pd.DataFrame(\n",
    "    data={\n",
    "        \"borough\": cd_normal[\"borough\"],\n",
    "        \"code\": cd_normal[\"code\"],\n",
    "        \"wgs84\": cd_wgs84[\"the_geom\"],\n",
    "        \"lift\": cd_lift[\"the_geom\"],\n",
    "    }\n",
    ")"
   ]
  },
  {
   "cell_type": "code",
   "execution_count": 33,
   "metadata": {},
   "outputs": [],
   "source": [
    "cd_published.to_csv(f\"{dest_path}/cd_v1.csv\", index=False)"
   ]
  }
 ],
 "metadata": {
  "kernelspec": {
   "display_name": "venv",
   "language": "python",
   "name": "python3"
  },
  "language_info": {
   "codemirror_mode": {
    "name": "ipython",
    "version": 3
   },
   "file_extension": ".py",
   "mimetype": "text/x-python",
   "name": "python",
   "nbconvert_exporter": "python",
   "pygments_lexer": "ipython3",
   "version": "3.10.12"
  }
 },
 "nbformat": 4,
 "nbformat_minor": 2
}
