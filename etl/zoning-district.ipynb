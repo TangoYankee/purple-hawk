{
 "cells": [
  {
   "cell_type": "code",
   "execution_count": 14,
   "metadata": {},
   "outputs": [],
   "source": [
    "import pandas as pd\n",
    "import geopandas as gpd"
   ]
  },
  {
   "cell_type": "code",
   "execution_count": 2,
   "metadata": {},
   "outputs": [],
   "source": [
    "base_path = \"../../purple-hawk-data\"\n",
    "source_path = f\"{base_path}/source\"\n",
    "dest_path = f\"{base_path}/db-copy\""
   ]
  },
  {
   "cell_type": "code",
   "execution_count": 10,
   "metadata": {},
   "outputs": [],
   "source": [
    "zoning_district_full = gpd.read_file(f\"{source_path}/zoning.gdb\")"
   ]
  },
  {
   "cell_type": "code",
   "execution_count": 11,
   "metadata": {},
   "outputs": [],
   "source": [
    "zoning_district_lift = zoning_district_full.reindex([\"ZONEDIST\", \"geometry\"], axis=1)"
   ]
  },
  {
   "cell_type": "code",
   "execution_count": 12,
   "metadata": {},
   "outputs": [],
   "source": [
    "zoning_district_wgs84 = zoning_district_lift.to_crs(4326)"
   ]
  },
  {
   "cell_type": "code",
   "execution_count": 16,
   "metadata": {},
   "outputs": [],
   "source": [
    "zoning_district = pd.DataFrame(data=zoning_district_lift)\n",
    "zoning_district.drop(\"geometry\", axis=1, inplace=True)\n",
    "zoning_district[\"lift\"] = zoning_district_lift[\"geometry\"]\n",
    "zoning_district[\"wgs84\"] = zoning_district_wgs84[\"geometry\"]"
   ]
  },
  {
   "cell_type": "code",
   "execution_count": 19,
   "metadata": {},
   "outputs": [],
   "source": [
    "zoning_district.to_csv(f\"{dest_path}/zoning_district_v1.csv\")"
   ]
  }
 ],
 "metadata": {
  "kernelspec": {
   "display_name": "Python 3",
   "language": "python",
   "name": "python3"
  },
  "language_info": {
   "codemirror_mode": {
    "name": "ipython",
    "version": 3
   },
   "file_extension": ".py",
   "mimetype": "text/x-python",
   "name": "python",
   "nbconvert_exporter": "python",
   "pygments_lexer": "ipython3",
   "version": "3.10.12"
  }
 },
 "nbformat": 4,
 "nbformat_minor": 2
}
