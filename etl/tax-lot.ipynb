{
 "cells": [
  {
   "cell_type": "code",
   "execution_count": 6,
   "metadata": {},
   "outputs": [],
   "source": [
    "import geopandas as gpd\n",
    "import pandas as pd"
   ]
  },
  {
   "cell_type": "code",
   "execution_count": 3,
   "metadata": {},
   "outputs": [],
   "source": [
    "base_path = \"../../purple-hawk-data\"\n",
    "source_path = f\"{base_path}/source\"\n",
    "dest_path = f\"{base_path}/db-copy\""
   ]
  },
  {
   "cell_type": "code",
   "execution_count": 8,
   "metadata": {},
   "outputs": [],
   "source": [
    "map_pluto = gpd.read_file(f\"{source_path}/nyc_mappluto_23v2/MapPLUTO.shp\")"
   ]
  },
  {
   "cell_type": "code",
   "execution_count": 9,
   "metadata": {},
   "outputs": [],
   "source": [
    "map_pluto_essentials = map_pluto.reindex(\n",
    "    [\n",
    "        \"BBL\",\n",
    "        \"BoroCode\",\n",
    "        \"Block\",\n",
    "        \"Lot\",\n",
    "        \"Address\",\n",
    "        \"BldgClass\",\n",
    "        \"LandUse\",\n",
    "        \"ComArea\",\n",
    "        \"ResArea\",\n",
    "        \"OfficeArea\",\n",
    "        \"RetailArea\",\n",
    "        \"GarageArea\",\n",
    "        \"StrgeArea\",\n",
    "        \"FactryArea\",\n",
    "        \"OtherArea\",\n",
    "        \"NumFloors\",\n",
    "        \"UnitsRes\",\n",
    "        \"UnitsTotal\",\n",
    "        \"LotType\",\n",
    "        \"Landmark\",\n",
    "        \"BuiltFAR\",\n",
    "        \"ResidFAR\",\n",
    "        \"CommFAR\",\n",
    "        \"FacilFAR\",\n",
    "        \"geometry\",\n",
    "    ],\n",
    "    axis=1,\n",
    ")"
   ]
  },
  {
   "cell_type": "code",
   "execution_count": 10,
   "metadata": {},
   "outputs": [],
   "source": [
    "map_pluto_essentials[\"BBL\"] = (\n",
    "    map_pluto_essentials[\"BBL\"].astype(float).astype(int).astype(str)\n",
    ")"
   ]
  },
  {
   "cell_type": "code",
   "execution_count": 11,
   "metadata": {},
   "outputs": [],
   "source": [
    "map_pluto_essentials = map_pluto_essentials.drop_duplicates(subset=[\"BBL\"])"
   ]
  },
  {
   "cell_type": "code",
   "execution_count": 12,
   "metadata": {},
   "outputs": [],
   "source": [
    "map_pluto_essentials[\"LandUse\"] = map_pluto_essentials[\"LandUse\"].astype(str)"
   ]
  },
  {
   "cell_type": "code",
   "execution_count": 13,
   "metadata": {},
   "outputs": [],
   "source": [
    "map_pluto_essentials[\"LotType\"] = map_pluto_essentials[\"LotType\"].astype(str)"
   ]
  },
  {
   "cell_type": "code",
   "execution_count": 14,
   "metadata": {},
   "outputs": [],
   "source": [
    "map_pluto_essentials[\"Landmark\"] = map_pluto_essentials[\"Landmark\"].astype(str)"
   ]
  },
  {
   "cell_type": "code",
   "execution_count": 15,
   "metadata": {},
   "outputs": [],
   "source": [
    "map_pluto_lift = map_pluto_essentials.reindex([\"BBL\", \"geometry\"], axis=1)"
   ]
  },
  {
   "cell_type": "code",
   "execution_count": 16,
   "metadata": {},
   "outputs": [],
   "source": [
    "map_pluto_wgs84 = map_pluto_lift.to_crs(4326)"
   ]
  },
  {
   "cell_type": "code",
   "execution_count": 17,
   "metadata": {},
   "outputs": [],
   "source": [
    "map_pluto_essentials[\"wgs84\"] = map_pluto_wgs84[\"geometry\"]\n",
    "map_pluto_essentials[\"lift\"] = map_pluto_lift[\"geometry\"]\n",
    "map_pluto_essentials.drop(\"geometry\", axis=1, inplace=True)"
   ]
  },
  {
   "cell_type": "code",
   "execution_count": 19,
   "metadata": {},
   "outputs": [],
   "source": [
    "map_pluto_essentials.to_csv(f\"{dest_path}/tax_lot_v3.csv\", index=False)"
   ]
  }
 ],
 "metadata": {
  "kernelspec": {
   "display_name": "venv",
   "language": "python",
   "name": "python3"
  },
  "language_info": {
   "codemirror_mode": {
    "name": "ipython",
    "version": 3
   },
   "file_extension": ".py",
   "mimetype": "text/x-python",
   "name": "python",
   "nbconvert_exporter": "python",
   "pygments_lexer": "ipython3",
   "version": "3.10.12"
  }
 },
 "nbformat": 4,
 "nbformat_minor": 2
}
