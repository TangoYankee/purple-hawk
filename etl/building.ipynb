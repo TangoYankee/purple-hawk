{
 "cells": [
  {
   "cell_type": "code",
   "execution_count": 1,
   "metadata": {},
   "outputs": [],
   "source": [
    "import pandas as pd\n",
    "import geopandas as gpd\n",
    "from shapely import wkt"
   ]
  },
  {
   "cell_type": "code",
   "execution_count": 2,
   "metadata": {},
   "outputs": [],
   "source": [
    "base_path = \"../../purple-hawk-data\"\n",
    "source_path = f\"{base_path}/source\"\n",
    "dest_path = f\"{base_path}/db-copy\""
   ]
  },
  {
   "cell_type": "code",
   "execution_count": 3,
   "metadata": {},
   "outputs": [],
   "source": [
    "building = gpd.read_file(f\"{source_path}/building.csv\")"
   ]
  },
  {
   "cell_type": "code",
   "execution_count": 4,
   "metadata": {},
   "outputs": [],
   "source": [
    "building = building.drop_duplicates(subset=[\"BIN\"])"
   ]
  },
  {
   "cell_type": "code",
   "execution_count": 5,
   "metadata": {},
   "outputs": [],
   "source": [
    "building_spatial = building.reindex(\n",
    "    [\"BIN\", \"CNSTRCT_YR\", \"HEIGHTROOF\", \"GROUNDELEV\", \"FEAT_CODE\", \"the_geom\"], axis=1\n",
    ")"
   ]
  },
  {
   "cell_type": "code",
   "execution_count": 6,
   "metadata": {},
   "outputs": [],
   "source": [
    "building_spatial[\"geometry\"] = building_spatial.the_geom.apply(wkt.loads)\n",
    "building_spatial.drop(\"the_geom\", axis=1, inplace=True)\n",
    "building_wgs84 = gpd.GeoDataFrame(building_spatial, geometry=\"geometry\", crs=4326)"
   ]
  },
  {
   "cell_type": "code",
   "execution_count": 7,
   "metadata": {},
   "outputs": [],
   "source": [
    "building_lift = building_wgs84.to_crs(2263)"
   ]
  },
  {
   "cell_type": "code",
   "execution_count": 8,
   "metadata": {},
   "outputs": [],
   "source": [
    "building_export = pd.DataFrame(data=building_lift)\n",
    "building_export.drop(\"geometry\", axis=1, inplace=True)\n",
    "building_export[\"lift\"] = building_lift[\"geometry\"]\n",
    "building_export[\"wgs84\"] = building_wgs84[\"geometry\"]"
   ]
  },
  {
   "cell_type": "code",
   "execution_count": 9,
   "metadata": {},
   "outputs": [],
   "source": [
    "building_export.to_csv(f\"{dest_path}/building_v2.csv\", index=False)"
   ]
  }
 ],
 "metadata": {
  "kernelspec": {
   "display_name": "venv",
   "language": "python",
   "name": "python3"
  },
  "language_info": {
   "codemirror_mode": {
    "name": "ipython",
    "version": 3
   },
   "file_extension": ".py",
   "mimetype": "text/x-python",
   "name": "python",
   "nbconvert_exporter": "python",
   "pygments_lexer": "ipython3",
   "version": "3.10.12"
  }
 },
 "nbformat": 4,
 "nbformat_minor": 2
}
