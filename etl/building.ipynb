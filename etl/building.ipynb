{
 "cells": [
  {
   "cell_type": "code",
   "execution_count": 4,
   "metadata": {},
   "outputs": [],
   "source": [
    "import geopandas as gpd\n",
    "from shapely import wkt"
   ]
  },
  {
   "cell_type": "code",
   "execution_count": 6,
   "metadata": {},
   "outputs": [],
   "source": [
    "building = gpd.read_file(\"../../purple-hawk-data/building.csv\")"
   ]
  },
  {
   "cell_type": "code",
   "execution_count": 7,
   "metadata": {},
   "outputs": [],
   "source": [
    "building_essential_short = building.head(10).reindex(\n",
    "    [\"BIN\", \"CNSTRCT_YR\", \"HEIGHTROOF\", \"GROUNDELEV\", \"FEAT_CODE\"], axis=1\n",
    ")"
   ]
  },
  {
   "cell_type": "code",
   "execution_count": 8,
   "metadata": {},
   "outputs": [],
   "source": [
    "building_tax_lot_short = building.head(10).reindex([\"BIN\", \"MPLUTO_BBL\"], axis=1)"
   ]
  },
  {
   "cell_type": "code",
   "execution_count": 18,
   "metadata": {},
   "outputs": [],
   "source": [
    "building_wgs84_short = building.head(10).reindex([\"BIN\", \"the_geom\"], axis=1)\n",
    "\n",
    "building_wgs84_short[\"geometry\"] = building_wgs84_short.the_geom.apply(wkt.loads)\n",
    "building_wgs84_short.drop(\"the_geom\", axis=1, inplace=True)\n",
    "building_wgs84_short = gpd.GeoDataFrame(\n",
    "    building_wgs84_short, geometry=\"geometry\", crs=4326\n",
    ")"
   ]
  },
  {
   "cell_type": "code",
   "execution_count": 20,
   "metadata": {},
   "outputs": [],
   "source": [
    "building_long_island_short = building_wgs84_short.to_crs(2263)"
   ]
  },
  {
   "cell_type": "code",
   "execution_count": 22,
   "metadata": {},
   "outputs": [],
   "source": [
    "building_long_island_short.to_csv(\n",
    "    \"../../purple-hawk-data/building_long_island_short_v1.csv\", index=False\n",
    ")\n",
    "building_wgs84_short.to_csv(\n",
    "    \"../../purple-hawk-data/building_wgs84_short_v1.csv\", index=False\n",
    ")\n",
    "building_essential_short.to_csv(\n",
    "    \"../../purple-hawk-data/building_essentials_short_v1.csv\", index=False\n",
    ")\n",
    "building_tax_lot_short.to_csv(\n",
    "    \"../../purple-hawk-data/building_tax_lot_short_v1.csv\", index=False\n",
    ")"
   ]
  }
 ],
 "metadata": {
  "kernelspec": {
   "display_name": "venv",
   "language": "python",
   "name": "python3"
  },
  "language_info": {
   "codemirror_mode": {
    "name": "ipython",
    "version": 3
   },
   "file_extension": ".py",
   "mimetype": "text/x-python",
   "name": "python",
   "nbconvert_exporter": "python",
   "pygments_lexer": "ipython3",
   "version": "3.10.12"
  }
 },
 "nbformat": 4,
 "nbformat_minor": 2
}
