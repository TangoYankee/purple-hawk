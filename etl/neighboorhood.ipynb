{
 "cells": [
  {
   "cell_type": "code",
   "execution_count": 1,
   "metadata": {},
   "outputs": [],
   "source": [
    "import geopandas as gpd\n",
    "from shapely import wkt\n",
    "import pandas as pd"
   ]
  },
  {
   "cell_type": "code",
   "execution_count": null,
   "metadata": {},
   "outputs": [],
   "source": [
    "base_path = \"../../purple-hawk-data\"\n",
    "source_path = f\"{base_path}/source\"\n",
    "dest_path = f\"{base_path}/db-copy\""
   ]
  },
  {
   "cell_type": "code",
   "execution_count": 2,
   "metadata": {},
   "outputs": [],
   "source": [
    "neighborhood = gpd.read_file(f\"{source_dest}/neighborhood.csv\")"
   ]
  },
  {
   "cell_type": "code",
   "execution_count": 3,
   "metadata": {},
   "outputs": [],
   "source": [
    "neighborhood_essentials = neighborhood.reindex([\"Name\", \"the_geom\"], axis=1)"
   ]
  },
  {
   "cell_type": "code",
   "execution_count": 22,
   "metadata": {},
   "outputs": [],
   "source": [
    "neighborhood_essentials[\"spatial\"] = neighborhood_essentials.the_geom.apply(wkt.loads)\n",
    "neighborhood_spatial = neighborhood_essentials.drop(\"the_geom\", axis=1)\n",
    "neighborhood_wgs84 = gpd.GeoDataFrame(\n",
    "    neighborhood_spatial, geometry=\"spatial\", crs=4326\n",
    ")"
   ]
  },
  {
   "cell_type": "code",
   "execution_count": 23,
   "metadata": {},
   "outputs": [],
   "source": [
    "neighborhood_lift = neighborhood_wgs84.to_crs(2263)"
   ]
  },
  {
   "cell_type": "code",
   "execution_count": 25,
   "metadata": {},
   "outputs": [],
   "source": [
    "neighborhood_published = pd.DataFrame(\n",
    "    data={\n",
    "        \"name\": neighborhood_essentials[\"Name\"],\n",
    "        \"wgs84\": neighborhood_wgs84[\"spatial\"],\n",
    "        \"lift\": neighborhood_lift[\"spatial\"],\n",
    "    }\n",
    ")"
   ]
  },
  {
   "cell_type": "code",
   "execution_count": 27,
   "metadata": {},
   "outputs": [],
   "source": [
    "neighborhood_published.to_csv(f\"{dest_path}/neighborhood_v1.csv\", index=False)"
   ]
  }
 ],
 "metadata": {
  "kernelspec": {
   "display_name": "venv",
   "language": "python",
   "name": "python3"
  },
  "language_info": {
   "codemirror_mode": {
    "name": "ipython",
    "version": 3
   },
   "file_extension": ".py",
   "mimetype": "text/x-python",
   "name": "python",
   "nbconvert_exporter": "python",
   "pygments_lexer": "ipython3",
   "version": "3.10.12"
  }
 },
 "nbformat": 4,
 "nbformat_minor": 2
}
